{
  "nbformat": 4,
  "nbformat_minor": 0,
  "metadata": {
    "colab": {
      "name": "first-google-colab.ipynb",
      "provenance": [],
      "collapsed_sections": [],
      "authorship_tag": "ABX9TyO7Gr2BTwxRGfemEr3eWpYx",
      "include_colab_link": true
    },
    "kernelspec": {
      "name": "python3",
      "display_name": "Python 3"
    }
  },
  "cells": [
    {
      "cell_type": "markdown",
      "metadata": {
        "id": "view-in-github",
        "colab_type": "text"
      },
      "source": [
        "<a href=\"https://colab.research.google.com/github/manthony1/hackerrank-30-days-of-code-python/blob/master/first_google_colab.ipynb\" target=\"_parent\"><img src=\"https://colab.research.google.com/assets/colab-badge.svg\" alt=\"Open In Colab\"/></a>"
      ]
    },
    {
      "cell_type": "markdown",
      "metadata": {
        "id": "0yPNfK2Vy3ax",
        "colab_type": "text"
      },
      "source": [
        "# 30 days of code: Hackerrank"
      ]
    },
    {
      "cell_type": "code",
      "metadata": {
        "id": "6Wn0XwqyzE8N",
        "colab_type": "code",
        "colab": {
          "base_uri": "https://localhost:8080/",
          "height": 50
        },
        "outputId": "2d96d8c4-f35f-4b71-b09b-621f06dd8e43"
      },
      "source": [
        "print('hello world')\n",
        "list = [1,2,3,4,5,6,7,8,9,10]\n",
        "y = [x for x in list if x%2==0]\n",
        "print(y)"
      ],
      "execution_count": 9,
      "outputs": [
        {
          "output_type": "stream",
          "text": [
            "hello world\n",
            "[2, 4, 6, 8, 10]\n"
          ],
          "name": "stdout"
        }
      ]
    }
  ]
}
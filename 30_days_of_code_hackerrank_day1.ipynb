{
  "nbformat": 4,
  "nbformat_minor": 0,
  "metadata": {
    "colab": {
      "name": "30-days-of-code-hackerrank-day1.ipynb",
      "provenance": [],
      "collapsed_sections": [],
      "authorship_tag": "ABX9TyNgIcUKMfNOBVdPZ9ah9CuK",
      "include_colab_link": true
    },
    "kernelspec": {
      "name": "python3",
      "display_name": "Python 3"
    }
  },
  "cells": [
    {
      "cell_type": "markdown",
      "metadata": {
        "id": "view-in-github",
        "colab_type": "text"
      },
      "source": [
        "<a href=\"https://colab.research.google.com/github/manthony1/hackerrank-30-days-of-code-python/blob/master/30_days_of_code_hackerrank_day1.ipynb\" target=\"_parent\"><img src=\"https://colab.research.google.com/assets/colab-badge.svg\" alt=\"Open In Colab\"/></a>"
      ]
    },
    {
      "cell_type": "markdown",
      "metadata": {
        "id": "0yPNfK2Vy3ax",
        "colab_type": "text"
      },
      "source": [
        "# 30 days of code: HackerRank\n",
        "###Day 1: Data Types"
      ]
    },
    {
      "cell_type": "code",
      "metadata": {
        "id": "6Wn0XwqyzE8N",
        "colab_type": "code",
        "colab": {
          "base_uri": "https://localhost:8080/",
          "height": 118
        },
        "outputId": "fe602372-d2cc-46e5-ed4e-f28d4061d72a"
      },
      "source": [
        "i = 4\n",
        "d = 4.0\n",
        "s = 'HackerRank '\n",
        "\n",
        "# Declare second integer, double, and String variables.\n",
        "i2 = None\n",
        "d2 = None\n",
        "s2 = None\n",
        "\n",
        "\n",
        "i2 = int(input())\n",
        "d2=float(input())\n",
        "s2=str(input())\n",
        "\n",
        "print(i+i2)\n",
        "print(d+d2)\n",
        "print(s+s2)\n",
        "\n"
      ],
      "execution_count": 2,
      "outputs": [
        {
          "output_type": "stream",
          "text": [
            "4\n",
            "3.2\n",
            "hello\n",
            "8\n",
            "7.2\n",
            "HackerRank hello\n"
          ],
          "name": "stdout"
        }
      ]
    }
  ]
}
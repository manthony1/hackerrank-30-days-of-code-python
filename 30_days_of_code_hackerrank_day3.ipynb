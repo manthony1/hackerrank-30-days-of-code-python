{
  "nbformat": 4,
  "nbformat_minor": 0,
  "metadata": {
    "colab": {
      "name": "30-days-of-code-hackerrank-day3.ipynb",
      "provenance": [],
      "collapsed_sections": [],
      "authorship_tag": "ABX9TyN1SFPEUercyIz237agen7l",
      "include_colab_link": true
    },
    "kernelspec": {
      "name": "python3",
      "display_name": "Python 3"
    }
  },
  "cells": [
    {
      "cell_type": "markdown",
      "metadata": {
        "id": "view-in-github",
        "colab_type": "text"
      },
      "source": [
        "<a href=\"https://colab.research.google.com/github/manthony1/hackerrank-30-days-of-code-python/blob/master/30_days_of_code_hackerrank_day3.ipynb\" target=\"_parent\"><img src=\"https://colab.research.google.com/assets/colab-badge.svg\" alt=\"Open In Colab\"/></a>"
      ]
    },
    {
      "cell_type": "markdown",
      "metadata": {
        "id": "PmLudGM0KTdK",
        "colab_type": "text"
      },
      "source": [
        "# 30 days of code: HackerRank\n",
        "###Day 3: Intro to Conditional Statements"
      ]
    },
    {
      "cell_type": "code",
      "metadata": {
        "id": "KOu9zpb9KijQ",
        "colab_type": "code",
        "colab": {
          "base_uri": "https://localhost:8080/",
          "height": 50
        },
        "outputId": "bbf520ef-573a-4fe0-e3bd-71235d3a9a49"
      },
      "source": [
        "#!/bin/python3\n",
        "\n",
        "import math\n",
        "import os\n",
        "import random\n",
        "import re\n",
        "import sys\n",
        "\n",
        "\n",
        "\n",
        "if __name__ == '__main__':\n",
        "    def checkNum(n):\n",
        "        if n < 101:\n",
        "            if (n % 2) != 0:\n",
        "                print ('Weird')\n",
        "            elif (n%2 ==0 and (n>=2 and n <= 5)):\n",
        "                print ('Not Weird')\n",
        "            elif (n%2 ==0 and (n>=6 and n <= 20)):\n",
        "                print ('Weird')\n",
        "            elif (n%2 ==0 and (n > 20)):\n",
        "                print ('Not Weird')        \n",
        "        else:\n",
        "          print('Input is higher than 100, try again')    \n",
        "n = int(input())\n",
        "checkNum(n)\n"
      ],
      "execution_count": 3,
      "outputs": [
        {
          "output_type": "stream",
          "text": [
            "222\n",
            "Input is higher than 100, try again\n"
          ],
          "name": "stdout"
        }
      ]
    }
  ]
}